{
 "cells": [
  {
   "cell_type": "markdown",
   "metadata": {},
   "source": [
    "### Fashion_mnist using CNN"
   ]
  },
  {
   "cell_type": "code",
   "execution_count": 1,
   "metadata": {},
   "outputs": [
    {
     "name": "stdout",
     "output_type": "stream",
     "text": [
      "2.5.0\n"
     ]
    }
   ],
   "source": [
    "import tensorflow as tf\n",
    "print(tf.__version__)"
   ]
  },
  {
   "cell_type": "code",
   "execution_count": 12,
   "metadata": {},
   "outputs": [],
   "source": [
    "import time"
   ]
  },
  {
   "cell_type": "code",
   "execution_count": 2,
   "metadata": {},
   "outputs": [],
   "source": [
    "# loading dataset\n",
    "mnist = tf.keras.datasets.fashion_mnist\n",
    "(x_train, y_train), (x_test, y_test) = mnist.load_data()"
   ]
  },
  {
   "cell_type": "markdown",
   "metadata": {},
   "source": [
    "Notice that there's a bit of a change here in that the training data needed to be reshaped. That's because the <b>first convolution expects a single tensor containing everything</b>, so instead of 60,000 28x28x1 items in a list, we have a single 4D list that is 60,000x28x28x1, and the same for the test images. If we don't do this, we'll get an error when training as the Convolutions do not recognize the shape."
   ]
  },
  {
   "cell_type": "code",
   "execution_count": 3,
   "metadata": {},
   "outputs": [],
   "source": [
    "x_train = x_train.reshape(60000,28,28,1)\n",
    "x_train = x_train/255.0\n",
    "x_test = x_test.reshape(10000, 28,28,1)\n",
    "x_test = x_test/255.0"
   ]
  },
  {
   "cell_type": "markdown",
   "metadata": {},
   "source": [
    "#### Defining the model:"
   ]
  },
  {
   "cell_type": "code",
   "execution_count": 5,
   "metadata": {},
   "outputs": [],
   "source": [
    "model = tf.keras.Sequential([\n",
    "    tf.keras.layers.Conv2D(64,(3,3), activation='relu', input_shape=(28,28,1)),\n",
    "    tf.keras.layers.MaxPooling2D(2,2),\n",
    "    tf.keras.layers.Conv2D(64, (3,3), activation='relu'),\n",
    "    tf.keras.layers.MaxPooling2D(2,2),\n",
    "    tf.keras.layers.Flatten(),\n",
    "    tf.keras.layers.Dense(128, activation = 'relu'),\n",
    "    tf.keras.layers.Dense(10, activation='softmax')\n",
    "])"
   ]
  },
  {
   "cell_type": "code",
   "execution_count": null,
   "metadata": {},
   "outputs": [],
   "source": [
    "model.summary()"
   ]
  },
  {
   "cell_type": "code",
   "execution_count": 6,
   "metadata": {},
   "outputs": [
    {
     "name": "stdout",
     "output_type": "stream",
     "text": [
      "Epoch 1/5\n",
      "1875/1875 [==============================] - 48s 25ms/step - loss: 0.4441 - accuracy: 0.8375\n",
      "Epoch 2/5\n",
      "1875/1875 [==============================] - 49s 26ms/step - loss: 0.2942 - accuracy: 0.8922\n",
      "Epoch 3/5\n",
      "1875/1875 [==============================] - 50s 27ms/step - loss: 0.2503 - accuracy: 0.90680s - loss: 0.2503 - accuracy\n",
      "Epoch 4/5\n",
      "1875/1875 [==============================] - 48s 26ms/step - loss: 0.2178 - accuracy: 0.91890s - loss: 0.2178 \n",
      "Epoch 5/5\n",
      "1875/1875 [==============================] - 51s 27ms/step - loss: 0.1908 - accuracy: 0.9291\n"
     ]
    },
    {
     "ename": "NameError",
     "evalue": "name 'test_images' is not defined",
     "output_type": "error",
     "traceback": [
      "\u001b[1;31m---------------------------------------------------------------------------\u001b[0m",
      "\u001b[1;31mNameError\u001b[0m                                 Traceback (most recent call last)",
      "\u001b[1;32m<ipython-input-6-eba0aaeb864e>\u001b[0m in \u001b[0;36m<module>\u001b[1;34m\u001b[0m\n\u001b[0;32m      1\u001b[0m \u001b[0mmodel\u001b[0m\u001b[1;33m.\u001b[0m\u001b[0mcompile\u001b[0m\u001b[1;33m(\u001b[0m\u001b[0moptimizer\u001b[0m\u001b[1;33m=\u001b[0m\u001b[1;34m'adam'\u001b[0m\u001b[1;33m,\u001b[0m \u001b[0mloss\u001b[0m\u001b[1;33m=\u001b[0m\u001b[1;34m'sparse_categorical_crossentropy'\u001b[0m\u001b[1;33m,\u001b[0m \u001b[0mmetrics\u001b[0m\u001b[1;33m=\u001b[0m\u001b[1;33m[\u001b[0m\u001b[1;34m'accuracy'\u001b[0m\u001b[1;33m]\u001b[0m\u001b[1;33m)\u001b[0m\u001b[1;33m\u001b[0m\u001b[1;33m\u001b[0m\u001b[0m\n\u001b[0;32m      2\u001b[0m \u001b[0mmodel\u001b[0m\u001b[1;33m.\u001b[0m\u001b[0mfit\u001b[0m\u001b[1;33m(\u001b[0m\u001b[0mx_train\u001b[0m\u001b[1;33m,\u001b[0m \u001b[0my_train\u001b[0m\u001b[1;33m,\u001b[0m \u001b[0mepochs\u001b[0m\u001b[1;33m=\u001b[0m\u001b[1;36m5\u001b[0m\u001b[1;33m)\u001b[0m\u001b[1;33m\u001b[0m\u001b[1;33m\u001b[0m\u001b[0m\n\u001b[1;32m----> 3\u001b[1;33m \u001b[0mtest_loss\u001b[0m\u001b[1;33m,\u001b[0m \u001b[0mtest_acc\u001b[0m \u001b[1;33m=\u001b[0m \u001b[0mmodel\u001b[0m\u001b[1;33m.\u001b[0m\u001b[0mevaluate\u001b[0m\u001b[1;33m(\u001b[0m\u001b[0mtest_images\u001b[0m\u001b[1;33m,\u001b[0m \u001b[0mtest_labels\u001b[0m\u001b[1;33m)\u001b[0m\u001b[1;33m\u001b[0m\u001b[1;33m\u001b[0m\u001b[0m\n\u001b[0m\u001b[0;32m      4\u001b[0m \u001b[0mprint\u001b[0m\u001b[1;33m(\u001b[0m\u001b[0mtest_acc\u001b[0m\u001b[1;33m)\u001b[0m\u001b[1;33m\u001b[0m\u001b[1;33m\u001b[0m\u001b[0m\n\u001b[0;32m      5\u001b[0m \u001b[0mprint\u001b[0m\u001b[1;33m(\u001b[0m\u001b[0mtest_loss\u001b[0m\u001b[1;33m)\u001b[0m\u001b[1;33m\u001b[0m\u001b[1;33m\u001b[0m\u001b[0m\n",
      "\u001b[1;31mNameError\u001b[0m: name 'test_images' is not defined"
     ]
    }
   ],
   "source": [
    "model.compile(optimizer='adam', loss='sparse_categorical_crossentropy', metrics=['accuracy'])\n",
    "start = time.time()\n",
    "model.fit(x_train, y_train, epochs=5)\n",
    "end = time.time()\n",
    "print(f\"Time taken = {end-start}\")\n",
    "test_loss, test_acc = model.evaluate(x_test, y_test)\n",
    "print(test_acc)\n",
    "print(test_loss)"
   ]
  },
  {
   "cell_type": "markdown",
   "metadata": {},
   "source": [
    "### Trying different parameters"
   ]
  },
  {
   "cell_type": "code",
   "execution_count": 10,
   "metadata": {},
   "outputs": [],
   "source": [
    "# Trying only one convolution(with 32 filters) followed by one Max Pooling layer\n",
    "model2 = tf.keras.Sequential([\n",
    "    tf.keras.layers.Conv2D(32,(3,3), activation='relu', input_shape=(28,28,1)),\n",
    "    tf.keras.layers.MaxPooling2D(2,2),\n",
    "    tf.keras.layers.Flatten(),\n",
    "    tf.keras.layers.Dense(128, activation = 'relu'),\n",
    "    tf.keras.layers.Dense(10, activation='softmax')\n",
    "])\n",
    "model2.compile(optimizer='adam', loss='sparse_categorical_crossentropy', metrics=['accuracy'])"
   ]
  },
  {
   "cell_type": "code",
   "execution_count": 11,
   "metadata": {},
   "outputs": [
    {
     "name": "stdout",
     "output_type": "stream",
     "text": [
      "Epoch 1/5\n",
      "1875/1875 [==============================] - 23s 12ms/step - loss: 0.4011 - accuracy: 0.8580\n",
      "Epoch 2/5\n",
      "1875/1875 [==============================] - 24s 13ms/step - loss: 0.2724 - accuracy: 0.9013\n",
      "Epoch 3/5\n",
      "1875/1875 [==============================] - 23s 12ms/step - loss: 0.2277 - accuracy: 0.9162\n",
      "Epoch 4/5\n",
      "1875/1875 [==============================] - 24s 13ms/step - loss: 0.1968 - accuracy: 0.9273\n",
      "Epoch 5/5\n",
      "1875/1875 [==============================] - 23s 12ms/step - loss: 0.1696 - accuracy: 0.9373\n",
      "Time taken = 116.89760160446167\n",
      "313/313 [==============================] - 2s 6ms/step - loss: 0.2812 - accuracy: 0.9000\n",
      "0.8999999761581421\n",
      "0.2812388241291046\n"
     ]
    }
   ],
   "source": [
    "start = time.time()\n",
    "model2.fit(x_train, y_train, epochs=5)\n",
    "end = time.time()\n",
    "print(f\"Time taken = {end-start}\")"
   ]
  },
  {
   "cell_type": "code",
   "execution_count": 14,
   "metadata": {},
   "outputs": [
    {
     "name": "stdout",
     "output_type": "stream",
     "text": [
      "313/313 [==============================] - 1s 3ms/step - loss: 0.2524 - accuracy: 0.9096\n",
      "0.909600019454956\n",
      "0.2523594796657562\n"
     ]
    }
   ],
   "source": [
    "test_loss, test_acc = model2.evaluate(x_test, y_test)\n",
    "print(test_acc)\n",
    "print(test_loss)"
   ]
  },
  {
   "cell_type": "code",
   "execution_count": 13,
   "metadata": {},
   "outputs": [],
   "source": [
    "# Two conv layers with 32 filters in each\n",
    "model3 = tf.keras.Sequential([\n",
    "    tf.keras.layers.Conv2D(32,(3,3), activation='relu', input_shape=(28,28,1)),\n",
    "    tf.keras.layers.MaxPooling2D(2,2),\n",
    "    tf.keras.layers.Conv2D(32,(3,3), activation='relu'),\n",
    "    tf.keras.layers.MaxPooling2D(2,2),\n",
    "    tf.keras.layers.Flatten(),\n",
    "    tf.keras.layers.Dense(128, activation = 'relu'),\n",
    "    tf.keras.layers.Dense(10, activation='softmax')\n",
    "])\n",
    "model3.compile(optimizer='adam', loss='sparse_categorical_crossentropy', metrics=['accuracy'])"
   ]
  },
  {
   "cell_type": "code",
   "execution_count": 15,
   "metadata": {},
   "outputs": [
    {
     "name": "stdout",
     "output_type": "stream",
     "text": [
      "Epoch 1/5\n",
      "1875/1875 [==============================] - 23s 12ms/step - loss: 0.4690 - accuracy: 0.8286\n",
      "Epoch 2/5\n",
      "1875/1875 [==============================] - 25s 14ms/step - loss: 0.3166 - accuracy: 0.8845\n",
      "Epoch 3/5\n",
      "1875/1875 [==============================] - 25s 13ms/step - loss: 0.2721 - accuracy: 0.8994\n",
      "Epoch 4/5\n",
      "1875/1875 [==============================] - 26s 14ms/step - loss: 0.2424 - accuracy: 0.9101\n",
      "Epoch 5/5\n",
      "1875/1875 [==============================] - 26s 14ms/step - loss: 0.2174 - accuracy: 0.9189\n",
      "Time taken = 125.66614437103271\n",
      "313/313 [==============================] - 1s 4ms/step - loss: 0.2568 - accuracy: 0.9054\n",
      "0.9053999781608582\n",
      "0.2568241357803345\n"
     ]
    }
   ],
   "source": [
    "start = time.time()\n",
    "model3.fit(x_train, y_train, epochs=5)\n",
    "end = time.time()\n",
    "print(f\"Time taken = {end-start}\")\n",
    "test_loss, test_acc = model3.evaluate(x_test, y_test)\n",
    "print(test_acc)\n",
    "print(test_loss)"
   ]
  },
  {
   "cell_type": "code",
   "execution_count": 16,
   "metadata": {},
   "outputs": [],
   "source": [
    "\n",
    "model4 = tf.keras.Sequential([\n",
    "    tf.keras.layers.Conv2D(64,(3,3), activation='relu', input_shape=(28,28,1)),\n",
    "    tf.keras.layers.MaxPooling2D(2,2),\n",
    "    tf.keras.layers.Conv2D(64,(3,3), activation='relu'),\n",
    "    tf.keras.layers.MaxPooling2D(2,2),\n",
    "    tf.keras.layers.Flatten(),\n",
    "    tf.keras.layers.Dense(512, activation = 'relu'),\n",
    "    tf.keras.layers.Dense(10, activation='softmax')\n",
    "])\n",
    "model4.compile(optimizer='adam', loss='sparse_categorical_crossentropy', metrics=['accuracy'])"
   ]
  },
  {
   "cell_type": "code",
   "execution_count": 17,
   "metadata": {},
   "outputs": [
    {
     "name": "stdout",
     "output_type": "stream",
     "text": [
      "Epoch 1/5\n",
      "1875/1875 [==============================] - 59s 31ms/step - loss: 0.4133 - accuracy: 0.8486\n",
      "Epoch 2/5\n",
      "1875/1875 [==============================] - 63s 33ms/step - loss: 0.2724 - accuracy: 0.8992\n",
      "Epoch 3/5\n",
      "1875/1875 [==============================] - 61s 33ms/step - loss: 0.2269 - accuracy: 0.9147\n",
      "Epoch 4/5\n",
      "1875/1875 [==============================] - 61s 32ms/step - loss: 0.1905 - accuracy: 0.9277\n",
      "Epoch 5/5\n",
      "1875/1875 [==============================] - 63s 33ms/step - loss: 0.1616 - accuracy: 0.9393\n",
      "Time taken = 306.30817770957947\n",
      "313/313 [==============================] - 3s 9ms/step - loss: 0.2617 - accuracy: 0.9078\n",
      "0.907800018787384\n",
      "0.26166945695877075\n"
     ]
    }
   ],
   "source": [
    "start = time.time()\n",
    "model4.fit(x_train, y_train, epochs=5)\n",
    "end = time.time()\n",
    "print(f\"Time taken = {end-start}\")\n",
    "test_loss, test_acc = model4.evaluate(x_test, y_test)\n",
    "print(test_acc)\n",
    "print(test_loss)"
   ]
  },
  {
   "cell_type": "code",
   "execution_count": 18,
   "metadata": {},
   "outputs": [],
   "source": [
    "\n",
    "model5 = tf.keras.Sequential([\n",
    "    tf.keras.layers.Conv2D(64,(3,3), activation='relu', input_shape=(28,28,1)),\n",
    "    tf.keras.layers.MaxPooling2D(2,2),\n",
    "    tf.keras.layers.Conv2D(64,(3,3), activation='relu'),\n",
    "    tf.keras.layers.MaxPooling2D(2,2),\n",
    "    tf.keras.layers.Flatten(),\n",
    "    tf.keras.layers.Dense(128, activation = 'relu'),\n",
    "    tf.keras.layers.Dense(10, activation='softmax')\n",
    "])\n",
    "model5.compile(optimizer='adam', loss='sparse_categorical_crossentropy', metrics=['accuracy'])"
   ]
  },
  {
   "cell_type": "code",
   "execution_count": 19,
   "metadata": {},
   "outputs": [
    {
     "name": "stdout",
     "output_type": "stream",
     "text": [
      "Epoch 1/10\n",
      "1875/1875 [==============================] - 53s 28ms/step - loss: 0.4318 - accuracy: 0.8441 - ETA: 0s - loss: 0.4318 - accuracy: 0.84\n",
      "Epoch 2/10\n",
      "1875/1875 [==============================] - 55s 29ms/step - loss: 0.2910 - accuracy: 0.8934\n",
      "Epoch 3/10\n",
      "1875/1875 [==============================] - 53s 28ms/step - loss: 0.2466 - accuracy: 0.9089\n",
      "Epoch 4/10\n",
      "1875/1875 [==============================] - 55s 29ms/step - loss: 0.2152 - accuracy: 0.9200\n",
      "Epoch 5/10\n",
      "1875/1875 [==============================] - 57s 30ms/step - loss: 0.1876 - accuracy: 0.9296\n",
      "Epoch 6/10\n",
      "1875/1875 [==============================] - 50s 27ms/step - loss: 0.1647 - accuracy: 0.9384\n",
      "Epoch 7/10\n",
      "1875/1875 [==============================] - 49s 26ms/step - loss: 0.1438 - accuracy: 0.9462\n",
      "Epoch 8/10\n",
      "1875/1875 [==============================] - 49s 26ms/step - loss: 0.1263 - accuracy: 0.9530\n",
      "Epoch 9/10\n",
      "1875/1875 [==============================] - 51s 27ms/step - loss: 0.1101 - accuracy: 0.9577\n",
      "Epoch 10/10\n",
      "1875/1875 [==============================] - 50s 27ms/step - loss: 0.0965 - accuracy: 0.9642\n",
      "Time taken = 520.4881134033203\n",
      "313/313 [==============================] - 3s 8ms/step - loss: 0.3020 - accuracy: 0.9070\n",
      "0.9070000052452087\n",
      "0.3019704520702362\n"
     ]
    }
   ],
   "source": [
    "start = time.time()\n",
    "model5.fit(x_train, y_train, epochs=10)\n",
    "end = time.time()\n",
    "print(f\"Time taken = {end-start}\")\n",
    "test_loss, test_acc = model5.evaluate(x_test, y_test)\n",
    "print(test_acc)\n",
    "print(test_loss)"
   ]
  },
  {
   "cell_type": "code",
   "execution_count": null,
   "metadata": {},
   "outputs": [],
   "source": []
  }
 ],
 "metadata": {
  "kernelspec": {
   "display_name": "Python 3",
   "language": "python",
   "name": "python3"
  },
  "language_info": {
   "codemirror_mode": {
    "name": "ipython",
    "version": 3
   },
   "file_extension": ".py",
   "mimetype": "text/x-python",
   "name": "python",
   "nbconvert_exporter": "python",
   "pygments_lexer": "ipython3",
   "version": "3.8.5"
  }
 },
 "nbformat": 4,
 "nbformat_minor": 4
}
