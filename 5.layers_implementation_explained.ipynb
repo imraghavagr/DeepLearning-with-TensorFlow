{
 "cells": [
  {
   "cell_type": "markdown",
   "metadata": {},
   "source": [
    "## Implementation explaination:\n",
    "\n",
    "So now let's take a look at\n",
    "convolutions and pooling in code. We don't have to do all the math for\n",
    "filtering and compressing, we simply define convolutional and\n",
    "pooling layers to do the job for us. So here's our code from the earlier\n",
    "example, where we defined out a neural network to have an input layer\n",
    "in the shape of our data, and output layer in the shape of the number\n",
    "of categories we're trying to define, and a hidden layer in the middle. The Flatten takes our\n",
    "square 28 by 28 images and turns them into a one dimensional array. To add convolutions to this,\n",
    "you use code like this. \n",
    "\n",
    "<img src=\"./imgs/cnn_implementation.png\">\n",
    "\n",
    "You'll see that the last three lines are\n",
    "the same, the Flatten, the Dense hidden layer with 128 neurons, and\n",
    "the Dense output layer with 10 neurons. What's different is what has\n",
    "been added on top of this. Let's take a look at this, line by line. \n",
    "\n",
    "- <b>First layer</b>: Here we're specifying\n",
    "the first convolution. We're asking keras to\n",
    "generate 64 filters for us. These filters are 3 by 3, their activation\n",
    "is relu, which means the negative values will be thrown way, and finally the input\n",
    "shape is as before, the 28 by 28. That extra 1 just means that we\n",
    "are tallying using a single byte for color depth. As we saw before our image is our\n",
    "gray scale, so we just use one byte. Now, of course,\n",
    "you might wonder what the 64 filters are. It's a little beyond the scope of\n",
    "this class to define them, but they aren't random. They start with a set\n",
    "of known good filters in a similar way to the pattern\n",
    "fitting that you saw earlier, and the ones that work from that\n",
    "set are learned over time. For more details on convolutions and\n",
    "how they work, there's a great set of resources https://www.youtube.com/playlist?list=PLkDaE6sCZn6Gl29AoE31iwdVwSG-KnDzF.\n",
    "\n",
    "- <b>Second layer</b>:This next line of code will then create a pooling layer. It's max-pooling because we're going to take the maximum value. We're saying it's a two-by-two pool, so for every four pixels, the biggest one will survive as shown earlier.\n",
    "\n",
    "- <b>Third layer</b>: We then add another convolutional layer, and another max-pooling layer <b>fourth layer</b> so that the network can learn another set of convolutions on top of the existing one, and then again, pool to reduce the size. So, by the time the image gets to the flatten to go into the dense layers, it's already much smaller. It's being quartered, and then quartered again. So, its content has been greatly simplified, the goal being that the convolutions will filter it to the features that determine the output.\n",
    "\n",
    "- The <b>fifth</b>, <b>sixth</b> and <b>seventh</b> layers are explained earlier.\n",
    "\n",
    "A really useful method on the model is the <b>model.summary</b> method. This allows us to inspect the layers of the model, and see the journey of the image through the convolutions, and here is the output:\n",
    " <img src=\"./imgs/model_summary.png\">\n",
    "\n",
    "It's a nice table showing us the layers, and some details about them including the output shape. It's important to keep an eye on the output shape column. When you first look at this, it can be a little bit confusing and feel like a bug. After all, isn't the data 28 by 28, so y is the output, 26 by 26. The key to this is remembering that the filter is a three by three filter. Consider what happens when you start scanning through an image starting on the top left.\n",
    "\n",
    "<img src=\"./imgs/dog_img.png\">\n",
    "So, for example with this image of the dog on the right, you can see zoomed into the pixels at its top left corner. You can't calculate the filter for the pixel in the top left, because it doesn't have any neighbors above it or to its left. In a similar fashion, the next pixel to the right won't work either because it doesn't have any neighbors above it. \n",
    "\n",
    "<img src=\"./imgs/margin.png\">\n",
    "So, logically, the first pixel that you can do calculations on is this one, because this one of course has all eight neighbors that a three by three filter needs. This when you think about it, means that you can't use a one pixel margin all around the image, so the output of the convolution will be two pixels smaller on x, and two pixels smaller on y. If your filter is five-by-five for similar reasons, your output will be four smaller on x, and four smaller on y. So, that's y with a three by three filter, our output from the 28 by 28 image, is now 26 by 26, we've removed that one pixel on x and y, and each of the borders. So, next is the first of the max-pooling layers. Now, remember we specified it to be two-by-two, thus turning four pixels into one, and having our x and y. So, now our output gets reduced from 26 by 26, to 13 by 13. The convolutions will then operate on that, and of course, we lose the one pixel margin as before, so we're down to 11 by 11, add another two-by-two max-pooling to have this rounding down, and went down, down to five-by-five images. So, now our dense neural network is the same as before, but it's being fed with five-by-five images instead of 28 by 28 ones. But remember, it's not just one compress five-by-five image instead of the original 28 by 28, there are a number of convolutions per image that we specified, in this case 64. So, there are 64 new images of five-by-five that had been fed in. Flatten that out and you have 25 pixels times 64, which is 1600. So, you can see that the new flattened layer has 1,600 elements in it, as opposed to the 784 that you had previously. This number is impacted by the parameters that you set when defining the convolutional 2D layers. Later when you experiment, you'll see what the impact of setting what other values for the number of convolutions will be, and in particular, you can see what happens when you're feeding less than 784 over all pixels in. Training should be faster, but is there a sweet spot where it's more accurate? Well, let's switch to the workbook, and we can try it out for ourselves."
   ]
  },
  {
   "cell_type": "code",
   "execution_count": null,
   "metadata": {},
   "outputs": [],
   "source": []
  }
 ],
 "metadata": {
  "kernelspec": {
   "display_name": "Python 3",
   "language": "python",
   "name": "python3"
  },
  "language_info": {
   "codemirror_mode": {
    "name": "ipython",
    "version": 3
   },
   "file_extension": ".py",
   "mimetype": "text/x-python",
   "name": "python",
   "nbconvert_exporter": "python",
   "pygments_lexer": "ipython3",
   "version": "3.8.5"
  }
 },
 "nbformat": 4,
 "nbformat_minor": 4
}
